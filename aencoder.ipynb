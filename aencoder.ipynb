{
 "cells": [
  {
   "cell_type": "code",
   "execution_count": 1,
   "id": "c55271ee-0f55-4869-961c-45655bf1d3dd",
   "metadata": {},
   "outputs": [
    {
     "name": "stderr",
     "output_type": "stream",
     "text": [
      "2023-05-27 12:04:56.249625: I tensorflow/tsl/cuda/cudart_stub.cc:28] Could not find cuda drivers on your machine, GPU will not be used.\n",
      "2023-05-27 12:04:56.462528: I tensorflow/tsl/cuda/cudart_stub.cc:28] Could not find cuda drivers on your machine, GPU will not be used.\n",
      "2023-05-27 12:04:56.463797: I tensorflow/core/platform/cpu_feature_guard.cc:182] This TensorFlow binary is optimized to use available CPU instructions in performance-critical operations.\n",
      "To enable the following instructions: AVX2 FMA, in other operations, rebuild TensorFlow with the appropriate compiler flags.\n",
      "2023-05-27 12:04:57.795753: W tensorflow/compiler/tf2tensorrt/utils/py_utils.cc:38] TF-TRT Warning: Could not find TensorRT\n"
     ]
    }
   ],
   "source": [
    "import numpy as np\n",
    "import pickle\n",
    "import matplotlib.pyplot as plt\n",
    "import tensorflow as tf\n",
    "from tensorflow.keras.models import Model\n",
    "from tensorflow.keras.layers import Conv2D, MaxPool2D, Input, Dense, Conv2DTranspose, BatchNormalization, UpSampling2D\n",
    "from tensorflow.keras.callbacks import ModelCheckpoint\n",
    "from tensorflow.keras.models import load_model\n",
    "\n",
    "#Loading Cifar10 Data\n",
    "def cifar10(X):\n",
    "    with open(X, 'rb') as fo:\n",
    "        data = pickle.load(fo, encoding='bytes')\n",
    "    return data\n",
    "\n",
    "#Creating image array from Cifer10\n",
    "def img(X):\n",
    "    X = cifar10(X)\n",
    "    X = X[b'data']\n",
    "    X = X.reshape(X.shape[0],3,32,32)\n",
    "    return X.transpose(0,2,3,1)\n",
    "\n",
    "#Adding noise\n",
    "def noise(X):\n",
    "    noise = np.random.randint(-25,25,size=X.shape)\n",
    "    X = X + noise\n",
    "    X = np.clip(X, a_min = 0, a_max = 255)\n",
    "    return X\n",
    "\n",
    "#Creating noisey image array\n",
    "def imgn(X):\n",
    "    X = cifar10(X)\n",
    "    X = X[b'data']\n",
    "    X = noise(X)\n",
    "    X = X.reshape(X.shape[0],3,32,32)\n",
    "    return X.transpose(0,2,3,1)\n",
    "\n",
    "#Loading Whole Traning data\n",
    "def load_train(X):\n",
    "    A = img(X + 'data_batch_1')\n",
    "    for i in range(2,6):\n",
    "        A = np.concatenate((A,img(X + 'data_batch_' + str(i))))\n",
    "    B = imgn(X + 'data_batch_1')\n",
    "    for i in range(2,6):\n",
    "        B = np.concatenate((B,imgn(X + 'data_batch_' + str(i))))\n",
    "    return A,B\n",
    "\n",
    "#Loading test data\n",
    "def load_test(X):\n",
    "    return img(X + 'test_batch'),imgn(X + 'test_batch')\n",
    "\n",
    "path = '/home/deb/cifar-10-batches-py/'\n",
    "X_train, Y_train = load_train(path)\n",
    "X_test, Y_test = load_test(path)\n",
    "X_train, Y_train = X_train/255, Y_train/255\n",
    "X_test, Y_test = X_test/255, Y_test/255"
   ]
  },
  {
   "cell_type": "code",
   "execution_count": 26,
   "id": "d8cc9bf0-e70d-4f65-9419-ffe31d0091f8",
   "metadata": {},
   "outputs": [
    {
     "name": "stdout",
     "output_type": "stream",
     "text": [
      "Epoch 1/50\n",
      "\n",
      "Epoch 1: val_loss improved from inf to 0.60028, saving model to aencoder.h5\n",
      "293/293 - 53s - loss: 0.5784 - val_loss: 0.6003 - 53s/epoch - 181ms/step\n",
      "Epoch 2/50\n",
      "\n",
      "Epoch 2: val_loss improved from 0.60028 to 0.56366, saving model to aencoder.h5\n",
      "293/293 - 49s - loss: 0.5630 - val_loss: 0.5637 - 49s/epoch - 168ms/step\n",
      "Epoch 3/50\n",
      "\n",
      "Epoch 3: val_loss did not improve from 0.56366\n",
      "293/293 - 47s - loss: 0.5602 - val_loss: 0.5646 - 47s/epoch - 162ms/step\n",
      "Epoch 4/50\n",
      "\n",
      "Epoch 4: val_loss improved from 0.56366 to 0.55970, saving model to aencoder.h5\n",
      "293/293 - 47s - loss: 0.5588 - val_loss: 0.5597 - 47s/epoch - 161ms/step\n",
      "Epoch 5/50\n",
      "\n",
      "Epoch 5: val_loss improved from 0.55970 to 0.55876, saving model to aencoder.h5\n",
      "293/293 - 47s - loss: 0.5578 - val_loss: 0.5588 - 47s/epoch - 161ms/step\n",
      "Epoch 6/50\n",
      "\n",
      "Epoch 6: val_loss improved from 0.55876 to 0.55815, saving model to aencoder.h5\n",
      "293/293 - 47s - loss: 0.5571 - val_loss: 0.5582 - 47s/epoch - 161ms/step\n",
      "Epoch 7/50\n",
      "\n",
      "Epoch 7: val_loss improved from 0.55815 to 0.55768, saving model to aencoder.h5\n",
      "293/293 - 47s - loss: 0.5566 - val_loss: 0.5577 - 47s/epoch - 161ms/step\n",
      "Epoch 8/50\n",
      "\n",
      "Epoch 8: val_loss improved from 0.55768 to 0.55733, saving model to aencoder.h5\n",
      "293/293 - 47s - loss: 0.5559 - val_loss: 0.5573 - 47s/epoch - 161ms/step\n",
      "Epoch 9/50\n",
      "\n",
      "Epoch 9: val_loss improved from 0.55733 to 0.55721, saving model to aencoder.h5\n",
      "293/293 - 47s - loss: 0.5555 - val_loss: 0.5572 - 47s/epoch - 162ms/step\n",
      "Epoch 10/50\n",
      "\n",
      "Epoch 10: val_loss did not improve from 0.55721\n",
      "293/293 - 48s - loss: 0.5553 - val_loss: 0.5575 - 48s/epoch - 165ms/step\n",
      "Epoch 11/50\n",
      "\n",
      "Epoch 11: val_loss did not improve from 0.55721\n",
      "293/293 - 47s - loss: 0.5549 - val_loss: 0.5590 - 47s/epoch - 160ms/step\n",
      "Epoch 12/50\n",
      "\n",
      "Epoch 12: val_loss did not improve from 0.55721\n",
      "293/293 - 47s - loss: 0.5546 - val_loss: 0.5755 - 47s/epoch - 161ms/step\n",
      "Epoch 13/50\n",
      "\n",
      "Epoch 13: val_loss did not improve from 0.55721\n",
      "293/293 - 47s - loss: 0.5545 - val_loss: 0.5584 - 47s/epoch - 161ms/step\n",
      "Epoch 14/50\n",
      "\n",
      "Epoch 14: val_loss improved from 0.55721 to 0.55576, saving model to aencoder.h5\n",
      "293/293 - 48s - loss: 0.5544 - val_loss: 0.5558 - 48s/epoch - 162ms/step\n",
      "Epoch 15/50\n",
      "\n",
      "Epoch 15: val_loss improved from 0.55576 to 0.55553, saving model to aencoder.h5\n",
      "293/293 - 47s - loss: 0.5541 - val_loss: 0.5555 - 47s/epoch - 162ms/step\n",
      "Epoch 16/50\n",
      "\n",
      "Epoch 16: val_loss improved from 0.55553 to 0.55515, saving model to aencoder.h5\n",
      "293/293 - 47s - loss: 0.5540 - val_loss: 0.5552 - 47s/epoch - 161ms/step\n",
      "Epoch 17/50\n",
      "\n",
      "Epoch 17: val_loss did not improve from 0.55515\n",
      "293/293 - 47s - loss: 0.5539 - val_loss: 0.5553 - 47s/epoch - 161ms/step\n",
      "Epoch 18/50\n",
      "\n",
      "Epoch 18: val_loss did not improve from 0.55515\n",
      "293/293 - 47s - loss: 0.5538 - val_loss: 0.5554 - 47s/epoch - 161ms/step\n",
      "Epoch 19/50\n",
      "\n",
      "Epoch 19: val_loss did not improve from 0.55515\n",
      "293/293 - 47s - loss: 0.5536 - val_loss: 0.5553 - 47s/epoch - 160ms/step\n",
      "Epoch 20/50\n",
      "\n",
      "Epoch 20: val_loss did not improve from 0.55515\n",
      "293/293 - 48s - loss: 0.5536 - val_loss: 0.5552 - 48s/epoch - 162ms/step\n",
      "Epoch 21/50\n",
      "\n",
      "Epoch 21: val_loss improved from 0.55515 to 0.55496, saving model to aencoder.h5\n",
      "293/293 - 48s - loss: 0.5535 - val_loss: 0.5550 - 48s/epoch - 163ms/step\n",
      "Epoch 22/50\n",
      "\n",
      "Epoch 22: val_loss improved from 0.55496 to 0.55484, saving model to aencoder.h5\n",
      "293/293 - 47s - loss: 0.5534 - val_loss: 0.5548 - 47s/epoch - 162ms/step\n",
      "Epoch 23/50\n",
      "\n",
      "Epoch 23: val_loss did not improve from 0.55484\n",
      "293/293 - 47s - loss: 0.5534 - val_loss: 0.5552 - 47s/epoch - 162ms/step\n",
      "Epoch 24/50\n",
      "\n",
      "Epoch 24: val_loss improved from 0.55484 to 0.55449, saving model to aencoder.h5\n",
      "293/293 - 48s - loss: 0.5533 - val_loss: 0.5545 - 48s/epoch - 162ms/step\n",
      "Epoch 25/50\n",
      "\n",
      "Epoch 25: val_loss did not improve from 0.55449\n",
      "293/293 - 47s - loss: 0.5532 - val_loss: 0.5553 - 47s/epoch - 162ms/step\n",
      "Epoch 26/50\n",
      "\n",
      "Epoch 26: val_loss did not improve from 0.55449\n",
      "293/293 - 48s - loss: 0.5532 - val_loss: 0.5548 - 48s/epoch - 162ms/step\n",
      "Epoch 27/50\n",
      "\n",
      "Epoch 27: val_loss did not improve from 0.55449\n",
      "293/293 - 48s - loss: 0.5530 - val_loss: 0.5554 - 48s/epoch - 163ms/step\n",
      "Epoch 28/50\n",
      "\n",
      "Epoch 28: val_loss did not improve from 0.55449\n",
      "293/293 - 47s - loss: 0.5531 - val_loss: 0.5547 - 47s/epoch - 161ms/step\n",
      "Epoch 29/50\n",
      "\n",
      "Epoch 29: val_loss did not improve from 0.55449\n",
      "293/293 - 47s - loss: 0.5530 - val_loss: 0.5548 - 47s/epoch - 162ms/step\n",
      "Epoch 30/50\n",
      "\n",
      "Epoch 30: val_loss did not improve from 0.55449\n",
      "293/293 - 47s - loss: 0.5529 - val_loss: 0.5546 - 47s/epoch - 162ms/step\n",
      "Epoch 31/50\n",
      "\n",
      "Epoch 31: val_loss improved from 0.55449 to 0.55427, saving model to aencoder.h5\n",
      "293/293 - 47s - loss: 0.5529 - val_loss: 0.5543 - 47s/epoch - 161ms/step\n",
      "Epoch 32/50\n",
      "\n",
      "Epoch 32: val_loss did not improve from 0.55427\n",
      "293/293 - 47s - loss: 0.5528 - val_loss: 0.5543 - 47s/epoch - 162ms/step\n",
      "Epoch 33/50\n",
      "\n",
      "Epoch 33: val_loss did not improve from 0.55427\n",
      "293/293 - 47s - loss: 0.5528 - val_loss: 0.5551 - 47s/epoch - 160ms/step\n",
      "Epoch 34/50\n",
      "\n",
      "Epoch 34: val_loss improved from 0.55427 to 0.55424, saving model to aencoder.h5\n",
      "293/293 - 47s - loss: 0.5528 - val_loss: 0.5542 - 47s/epoch - 162ms/step\n",
      "Epoch 35/50\n",
      "\n",
      "Epoch 35: val_loss improved from 0.55424 to 0.55421, saving model to aencoder.h5\n",
      "293/293 - 47s - loss: 0.5528 - val_loss: 0.5542 - 47s/epoch - 161ms/step\n",
      "Epoch 36/50\n",
      "\n",
      "Epoch 36: val_loss did not improve from 0.55421\n",
      "293/293 - 47s - loss: 0.5528 - val_loss: 0.5544 - 47s/epoch - 160ms/step\n",
      "Epoch 37/50\n",
      "\n",
      "Epoch 37: val_loss did not improve from 0.55421\n",
      "293/293 - 47s - loss: 0.5528 - val_loss: 0.5543 - 47s/epoch - 162ms/step\n",
      "Epoch 38/50\n",
      "\n",
      "Epoch 38: val_loss did not improve from 0.55421\n",
      "293/293 - 47s - loss: 0.5527 - val_loss: 0.5544 - 47s/epoch - 162ms/step\n",
      "Epoch 39/50\n",
      "\n",
      "Epoch 39: val_loss did not improve from 0.55421\n",
      "293/293 - 47s - loss: 0.5527 - val_loss: 0.5542 - 47s/epoch - 161ms/step\n",
      "Epoch 40/50\n",
      "\n",
      "Epoch 40: val_loss improved from 0.55421 to 0.55400, saving model to aencoder.h5\n",
      "293/293 - 47s - loss: 0.5526 - val_loss: 0.5540 - 47s/epoch - 161ms/step\n",
      "Epoch 41/50\n",
      "\n",
      "Epoch 41: val_loss improved from 0.55400 to 0.55396, saving model to aencoder.h5\n",
      "293/293 - 47s - loss: 0.5527 - val_loss: 0.5540 - 47s/epoch - 161ms/step\n",
      "Epoch 42/50\n",
      "\n",
      "Epoch 42: val_loss did not improve from 0.55396\n",
      "293/293 - 47s - loss: 0.5526 - val_loss: 0.5542 - 47s/epoch - 161ms/step\n",
      "Epoch 43/50\n",
      "\n",
      "Epoch 43: val_loss improved from 0.55396 to 0.55396, saving model to aencoder.h5\n",
      "293/293 - 47s - loss: 0.5526 - val_loss: 0.5540 - 47s/epoch - 161ms/step\n",
      "Epoch 44/50\n",
      "\n",
      "Epoch 44: val_loss did not improve from 0.55396\n",
      "293/293 - 47s - loss: 0.5526 - val_loss: 0.5543 - 47s/epoch - 160ms/step\n",
      "Epoch 45/50\n",
      "\n",
      "Epoch 45: val_loss did not improve from 0.55396\n",
      "293/293 - 47s - loss: 0.5525 - val_loss: 0.5578 - 47s/epoch - 161ms/step\n",
      "Epoch 46/50\n",
      "\n",
      "Epoch 46: val_loss did not improve from 0.55396\n",
      "293/293 - 47s - loss: 0.5525 - val_loss: 0.5545 - 47s/epoch - 160ms/step\n",
      "Epoch 47/50\n",
      "\n",
      "Epoch 47: val_loss improved from 0.55396 to 0.55394, saving model to aencoder.h5\n",
      "293/293 - 47s - loss: 0.5525 - val_loss: 0.5539 - 47s/epoch - 161ms/step\n",
      "Epoch 48/50\n",
      "\n",
      "Epoch 48: val_loss did not improve from 0.55394\n",
      "293/293 - 47s - loss: 0.5524 - val_loss: 0.5542 - 47s/epoch - 159ms/step\n",
      "Epoch 49/50\n",
      "\n",
      "Epoch 49: val_loss did not improve from 0.55394\n",
      "293/293 - 47s - loss: 0.5524 - val_loss: 0.5543 - 47s/epoch - 162ms/step\n",
      "Epoch 50/50\n",
      "\n",
      "Epoch 50: val_loss did not improve from 0.55394\n",
      "293/293 - 49s - loss: 0.5524 - val_loss: 0.5539 - 49s/epoch - 166ms/step\n"
     ]
    }
   ],
   "source": [
    "#Encoder\n",
    "_input_ = Input(shape = (32, 32, 3))\n",
    "layer = Conv2D(32, (3,3), activation = 'relu', padding = 'same')(_input_)\n",
    "layer = BatchNormalization()(layer)\n",
    "layer = MaxPool2D(pool_size = (2,2), padding = 'same')(layer)\n",
    "layer = Conv2D(32, (3,3), activation = 'relu', padding = 'same')(layer)\n",
    "layer = BatchNormalization()(layer)\n",
    "layer = MaxPool2D(pool_size = (2,2), padding = 'same')(layer)\n",
    "\n",
    "#Decoder\n",
    "layer = Conv2D(32, (3,3), activation = 'relu', padding = 'same')(layer)\n",
    "layer = BatchNormalization()(layer)\n",
    "layer = UpSampling2D()(layer)\n",
    "layer = Conv2D(32, (3,3), activation = 'relu', padding = 'same')(layer)\n",
    "layer = BatchNormalization()(layer)\n",
    "layer = UpSampling2D()(layer)\n",
    "_output_ = Conv2D(3, (3,3), activation = 'sigmoid', padding = 'same')(layer)\n",
    "\n",
    "autoencoder = Model(_input_,_output_,name = 'aencoder')\n",
    "autoencoder.compile(loss = 'binary_crossentropy', optimizer = 'adam')\n",
    "\n",
    "cp = ModelCheckpoint('aencoder.h5', save_best_only = True, save_weights_only = False, verbose = 1)\n",
    "network = autoencoder.fit(Y_train, X_train, batch_size = 128, epochs =50, callbacks = cp, validation_split = 0.25, verbose = 2)"
   ]
  },
  {
   "cell_type": "code",
   "execution_count": 4,
   "id": "b7e07d43-eaa2-4e1c-a5f6-6d4e87b87f51",
   "metadata": {},
   "outputs": [
    {
     "data": {
      "text/plain": [
       "<matplotlib.image.AxesImage at 0x7f13f06188b0>"
      ]
     },
     "execution_count": 4,
     "metadata": {},
     "output_type": "execute_result"
    },
    {
     "data": {
      "image/png": "[encoded data removed]",
      "text/plain": [
       "<Figure size 640x480 with 1 Axes>"
      ]
     },
     "metadata": {},
     "output_type": "display_data"
    }
   ],
   "source": [
    "autoencoder = load_model('aencoder.h5')\n",
    "plt.imshow(X_test[1004])"
   ]
  },
  {
   "cell_type": "code",
   "execution_count": 5,
   "id": "2dc20805-56d8-4ab2-af08-efb655324966",
   "metadata": {},
   "outputs": [
    {
     "data": {
      "text/plain": [
       "<matplotlib.image.AxesImage at 0x7f13f046fc40>"
      ]
     },
     "execution_count": 5,
     "metadata": {},
     "output_type": "execute_result"
    },
    {
     "data": {
      "image/png": "[encoded data removed]",
      "text/plain": [
       "<Figure size 640x480 with 1 Axes>"
      ]
     },
     "metadata": {},
     "output_type": "display_data"
    }
   ],
   "source": [
    "plt.imshow(Y_test[1004])"
   ]
  },
  {
   "cell_type": "code",
   "execution_count": 6,
   "id": "000b3bab-5bf6-4150-86f7-6bd3c3cf2fa2",
   "metadata": {},
   "outputs": [
    {
     "name": "stdout",
     "output_type": "stream",
     "text": [
      "313/313 [==============================] - 5s 15ms/step\n"
     ]
    },
    {
     "data": {
      "text/plain": [
       "(10000, 32, 32, 3)"
      ]
     },
     "execution_count": 6,
     "metadata": {},
     "output_type": "execute_result"
    }
   ],
   "source": [
    "pred = autoencoder.predict(Y_test)\n",
    "pred.shape"
   ]
  },
  {
   "cell_type": "code",
   "execution_count": 7,
   "id": "bf849a45-5072-4370-b3a8-cc680ca27407",
   "metadata": {},
   "outputs": [
    {
     "data": {
      "text/plain": [
       "<matplotlib.image.AxesImage at 0x7f13f0252e90>"
      ]
     },
     "execution_count": 7,
     "metadata": {},
     "output_type": "execute_result"
    },
    {
     "data": {
      "image/png": "[encoded data removed]",
      "text/plain": [
       "<Figure size 640x480 with 1 Axes>"
      ]
     },
     "metadata": {},
     "output_type": "display_data"
    }
   ],
   "source": [
    "plt.imshow(pred[1004])"
   ]
  },
  {
   "cell_type": "code",
   "execution_count": null,
   "id": "02419769-ad0b-449b-8d01-752e5c0469d6",
   "metadata": {},
   "outputs": [],
   "source": []
  }
 ],
 "metadata": {
  "kernelspec": {
   "display_name": "Python 3 (ipykernel)",
   "language": "python",
   "name": "python3"
  },
  "language_info": {
   "codemirror_mode": {
    "name": "ipython",
    "version": 3
   },
   "file_extension": ".py",
   "mimetype": "text/x-python",
   "name": "python",
   "nbconvert_exporter": "python",
   "pygments_lexer": "ipython3",
   "version": "3.10.6"
  }
 },
 "nbformat": 4,
 "nbformat_minor": 5
}
